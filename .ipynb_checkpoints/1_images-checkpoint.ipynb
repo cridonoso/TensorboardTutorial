{
 "cells": [
  {
   "cell_type": "markdown",
   "id": "aa76be6f",
   "metadata": {},
   "source": [
    "# Visualizing images"
   ]
  },
  {
   "cell_type": "code",
   "execution_count": 11,
   "id": "1c84726f",
   "metadata": {},
   "outputs": [],
   "source": [
    "import tensorflow as tf \n",
    "import matplotlib.pyplot as plt\n",
    "import io\n",
    "\n",
    "from tensorflow.keras.callbacks import TensorBoard\n",
    "from toy_model import create_autoencoder"
   ]
  },
  {
   "cell_type": "markdown",
   "id": "9310ca1c",
   "metadata": {},
   "source": [
    "To show how to visualice images on Tensorboard we will use an autoencoder to codify MNIST samples "
   ]
  },
  {
   "cell_type": "code",
   "execution_count": 12,
   "id": "03285793",
   "metadata": {},
   "outputs": [],
   "source": [
    "model = create_autoencoder()\n",
    "\n",
    "optimizer = tf.keras.optimizers.Adam()\n",
    "loss = tf.keras.losses.MeanSquaredError()\n",
    "model.compile(loss=loss, optimizer=optimizer, metrics=[\"mae\"])"
   ]
  },
  {
   "cell_type": "code",
   "execution_count": 13,
   "id": "1bed7501",
   "metadata": {},
   "outputs": [],
   "source": [
    "(x_train, _), _ = tf.keras.datasets.mnist.load_data()\n",
    "x_train_net = tf.expand_dims(x_train, axis=3)"
   ]
  },
  {
   "cell_type": "markdown",
   "id": "2277eb5a",
   "metadata": {},
   "source": [
    "We can incorporate `png` images on Tensorboard during training by using `matplotlib` and `tf.image.decode_png`"
   ]
  },
  {
   "cell_type": "code",
   "execution_count": 14,
   "id": "8f7ce135",
   "metadata": {},
   "outputs": [],
   "source": [
    "def matplotlib_to_png(figure):\n",
    "    \"\"\"Converts the matplotlib plot specified by 'figure' to a PNG image and\n",
    "    returns it. The supplied figure is closed and inaccessible after this call.\"\"\"\n",
    "    # Save the plot to a PNG in memory.\n",
    "    buf = io.BytesIO()\n",
    "    plt.savefig(buf, format='png')\n",
    "    # Closing the figure prevents it from being displayed directly inside\n",
    "    # the notebook.\n",
    "    plt.close(figure)\n",
    "    buf.seek(0)\n",
    "    # Convert PNG buffer to TF image\n",
    "    image = tf.image.decode_png(buf.getvalue(), channels=4)\n",
    "    # Add the batch dimension\n",
    "    image = tf.expand_dims(image, 0)\n",
    "    return image"
   ]
  },
  {
   "cell_type": "markdown",
   "id": "4a7ac97a",
   "metadata": {},
   "source": [
    "Using keras-based model requires to create a **custom callback** for loading images on Tensorboard"
   ]
  },
  {
   "cell_type": "code",
   "execution_count": 7,
   "id": "4e6e3d0b",
   "metadata": {},
   "outputs": [],
   "source": [
    "class VisualiceImage(tf.keras.callbacks.Callback):\n",
    "\n",
    "    def __init__(self, writer, validation_data):\n",
    "        super(VisualiceImage, self).__init__()\n",
    "        self.writer = writer\n",
    "        self.validation_data = validation_data\n",
    "        self.num_imgs = tf.minimum(len(validation_data), 4).numpy()\n",
    "        \n",
    "    def on_epoch_end(self, epoch, logs=None):\n",
    "        y_pred = self.model.predict(self.validation_data)\n",
    "        \n",
    "        # We create the subplots\n",
    "        fig, axes = plt.subplots(1, self.num_imgs)\n",
    "        for index, ax in enumerate(axes.flatten()):\n",
    "            ax.imshow(y_pred[index])\n",
    "            ax.set_yticklabels([])\n",
    "            ax.set_xticklabels([])\n",
    "        # and convert it to a png image\n",
    "        image = matplotlib_to_png(fig)\n",
    "        # then we write it to TB using our writer\n",
    "        with self.writer.as_default():\n",
    "            tf.summary.image(\"Partial Prediction\", image, step=epoch)"
   ]
  },
  {
   "cell_type": "markdown",
   "id": "4653446b",
   "metadata": {},
   "source": [
    "We initialice our custom callback"
   ]
  },
  {
   "cell_type": "code",
   "execution_count": 8,
   "id": "38d9ffa5",
   "metadata": {},
   "outputs": [],
   "source": [
    "image_writer = tf.summary.create_file_writer('logs/validation')\n",
    "custom_cb = VisualiceImage(writer=image_writer, validation_data=x_train_net)"
   ]
  },
  {
   "cell_type": "markdown",
   "id": "c3af5667",
   "metadata": {},
   "source": [
    "We also add the official TB callback "
   ]
  },
  {
   "cell_type": "code",
   "execution_count": 9,
   "id": "70e208c8",
   "metadata": {},
   "outputs": [],
   "source": [
    "from tensorflow.keras.callbacks import TensorBoard\n",
    "\n",
    "tb_cback = TensorBoard(log_dir='logs', update_freq='epoch')"
   ]
  },
  {
   "cell_type": "code",
   "execution_count": 10,
   "id": "261d8c96",
   "metadata": {},
   "outputs": [
    {
     "name": "stdout",
     "output_type": "stream",
     "text": [
      "Epoch 1/10\n",
      "1500/1500 [==============================] - 23s 15ms/step - loss: 999.8384 - mae: 10.9496 - val_loss: 445.7800 - val_mae: 7.5097\n",
      "Epoch 2/10\n",
      "1500/1500 [==============================] - 22s 15ms/step - loss: 414.7197 - mae: 7.2234 - val_loss: 398.7800 - val_mae: 7.0733\n",
      "Epoch 3/10\n",
      "1500/1500 [==============================] - 22s 14ms/step - loss: 383.1738 - mae: 6.9197 - val_loss: 382.1325 - val_mae: 6.8689\n",
      "Epoch 4/10\n",
      "1500/1500 [==============================] - 22s 15ms/step - loss: 367.5821 - mae: 6.7666 - val_loss: 368.9513 - val_mae: 6.7515\n",
      "Epoch 5/10\n",
      "1500/1500 [==============================] - 29s 20ms/step - loss: 357.2811 - mae: 6.6624 - val_loss: 364.5523 - val_mae: 6.7437\n",
      "Epoch 6/10\n",
      "1500/1500 [==============================] - 30s 20ms/step - loss: 349.9890 - mae: 6.5875 - val_loss: 352.9397 - val_mae: 6.5685\n",
      "Epoch 7/10\n",
      "1500/1500 [==============================] - 31s 21ms/step - loss: 344.1967 - mae: 6.5273 - val_loss: 345.9794 - val_mae: 6.5330\n",
      "Epoch 8/10\n",
      "1500/1500 [==============================] - 30s 20ms/step - loss: 339.8243 - mae: 6.4815 - val_loss: 347.1587 - val_mae: 6.5482\n",
      "Epoch 9/10\n",
      "1500/1500 [==============================] - 30s 20ms/step - loss: 335.7514 - mae: 6.4384 - val_loss: 342.0235 - val_mae: 6.4998\n",
      "Epoch 10/10\n",
      "1500/1500 [==============================] - 30s 20ms/step - loss: 332.5991 - mae: 6.4043 - val_loss: 338.3702 - val_mae: 6.4453\n"
     ]
    },
    {
     "data": {
      "text/plain": [
       "<keras.callbacks.History at 0x7eff286118e0>"
      ]
     },
     "execution_count": 10,
     "metadata": {},
     "output_type": "execute_result"
    }
   ],
   "source": [
    "model.fit(x_train_net, x_train_net, epochs=5, callbacks=[custom_cb, tb_cback], validation_split=.2)"
   ]
  },
  {
   "cell_type": "markdown",
   "id": "cb43f5fc",
   "metadata": {},
   "source": [
    "Of course if you are doing custom training you can use \n",
    "```\n",
    "        with self.writer.as_default():\n",
    "            tf.summary.image(\"Partial prediction\", image, step=epoch)\n",
    "```\n",
    "at the end of the validation step (similarly we write losses and metrics in the previous tutorial)"
   ]
  },
  {
   "cell_type": "code",
   "execution_count": null,
   "id": "940661d0",
   "metadata": {},
   "outputs": [],
   "source": []
  }
 ],
 "metadata": {
  "kernelspec": {
   "display_name": "Python 3 (ipykernel)",
   "language": "python",
   "name": "python3"
  },
  "language_info": {
   "codemirror_mode": {
    "name": "ipython",
    "version": 3
   },
   "file_extension": ".py",
   "mimetype": "text/x-python",
   "name": "python",
   "nbconvert_exporter": "python",
   "pygments_lexer": "ipython3",
   "version": "3.9.7"
  }
 },
 "nbformat": 4,
 "nbformat_minor": 5
}
