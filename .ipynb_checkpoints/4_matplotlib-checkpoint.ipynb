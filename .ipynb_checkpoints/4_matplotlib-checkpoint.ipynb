{
 "cells": [
  {
   "cell_type": "markdown",
   "id": "f9cf0993",
   "metadata": {},
   "source": [
    "# Confusion matrix\n",
    "### Exercise\n",
    "Implement a custom callback that calculates and sends a confusion matrix to Tensorboard.\n"
   ]
  },
  {
   "cell_type": "code",
   "execution_count": null,
   "id": "e0c53e7f",
   "metadata": {},
   "outputs": [],
   "source": [
    "import matplotlib.pyplot as plt\n",
    "import tensorflow as tf\n",
    "import numpy as np\n",
    "import io\n",
    "\n",
    "from sklearn.metrics import confusion_matrix\n",
    "from toy_model import create_model\n",
    "\n",
    "%load_ext autoreload\n",
    "%autoreload 2"
   ]
  },
  {
   "cell_type": "code",
   "execution_count": null,
   "id": "806ed885",
   "metadata": {},
   "outputs": [],
   "source": [
    "(x_train, y_train), (x_test, y_test) = tf.keras.datasets.mnist.load_data()\n",
    "n_classes = tf.unique(y_test).y.shape[0]"
   ]
  },
  {
   "cell_type": "code",
   "execution_count": null,
   "id": "2a5f0919",
   "metadata": {},
   "outputs": [],
   "source": [
    "x_train_net = tf.expand_dims(x_train, axis=3)\n",
    "y_train_net = tf.one_hot(y_train, n_classes)\n",
    "x_train_net.shape, y_train_net.shape"
   ]
  },
  {
   "cell_type": "code",
   "execution_count": null,
   "id": "e9ac6c39",
   "metadata": {},
   "outputs": [],
   "source": [
    "model = create_model(n_classes)"
   ]
  },
  {
   "cell_type": "code",
   "execution_count": null,
   "id": "df89bf78",
   "metadata": {},
   "outputs": [],
   "source": [
    "optimizer = tf.keras.optimizers.Adam()\n",
    "loss = tf.keras.losses.CategoricalCrossentropy(from_logits=True)\n",
    "model.compile(loss=loss, optimizer=optimizer, metrics=[\"accuracy\"])"
   ]
  },
  {
   "cell_type": "code",
   "execution_count": null,
   "id": "b733e6d5",
   "metadata": {},
   "outputs": [],
   "source": [
    "def matplotlib_to_png(figure):\n",
    "    \"\"\"Converts the matplotlib plot specified by 'figure' to a PNG image and\n",
    "    returns it. The supplied figure is closed and inaccessible after this call.\"\"\"\n",
    "    # Save the plot to a PNG in memory.\n",
    "    buf = io.BytesIO()\n",
    "    plt.savefig(buf, format='png')\n",
    "    # Closing the figure prevents it from being displayed directly inside\n",
    "    # the notebook.\n",
    "    plt.close(figure)\n",
    "    buf.seek(0)\n",
    "    # Convert PNG buffer to TF image\n",
    "    image = tf.image.decode_png(buf.getvalue(), channels=4)\n",
    "    # Add the batch dimension\n",
    "    image = tf.expand_dims(image, 0)\n",
    "    return image"
   ]
  },
  {
   "cell_type": "code",
   "execution_count": null,
   "id": "0dc03106",
   "metadata": {},
   "outputs": [],
   "source": [
    "class ConfusionMatrixVis(tf.keras.callbacks.Callback):\n",
    "\n",
    "    def __init__(self, writer, x, y, class_names):\n",
    "        super(ConfusionMatrixVis, self).__init__()\n",
    "        self.writer = writer\n",
    "        self.inputs = x\n",
    "        self.outputs = y\n",
    "        self.class_names = class_names\n",
    "        \n",
    "    def on_epoch_end(self, epoch, logs=None):\n",
    "        y_pred = self.model.predict(self.inputs)\n",
    "#         confusion_matrix(y_pred)\n",
    "        pred_labels = tf.argmax(y_pred, 1)\n",
    "        true_labels = tf.argmax(self.outputs, 1)\n",
    "        cm = confusion_matrix(true_labels, pred_labels, normalize='true')\n",
    "        \n",
    "        figure = plt.figure(figsize=(8, 8))\n",
    "        plt.imshow(cm, interpolation='nearest', cmap=plt.cm.Blues)\n",
    "        plt.title(\"Confusion matrix\")\n",
    "        plt.colorbar()\n",
    "        tick_marks = np.arange(len(self.class_names))\n",
    "        plt.xticks(tick_marks, self.class_names, rotation=45)\n",
    "        plt.yticks(tick_marks, self.class_names)\n",
    "        \n",
    "        image = matplotlib_to_png(figure)\n",
    "        \n",
    "        with self.writer.as_default():\n",
    "            tf.summary.image(\"Confusion Matrix\", image, step=epoch)"
   ]
  },
  {
   "cell_type": "code",
   "execution_count": null,
   "id": "02667066",
   "metadata": {},
   "outputs": [],
   "source": [
    "image_writer = tf.summary.create_file_writer('logs/validation')\n",
    "\n",
    "custom_cb = ConfusionMatrixVis(image_writer, \n",
    "                               x=x_train_net[100:], \n",
    "                               y=y_train_net[100:],\n",
    "                               class_names=range(10))"
   ]
  },
  {
   "cell_type": "code",
   "execution_count": null,
   "id": "b1e3c2e5",
   "metadata": {},
   "outputs": [],
   "source": [
    "model.fit(x_train_net[:100], y_train_net[:100], \n",
    "          epochs=5, \n",
    "          callbacks=[custom_cb], \n",
    "          validation_split=.2)"
   ]
  },
  {
   "cell_type": "code",
   "execution_count": null,
   "id": "fa378e58",
   "metadata": {},
   "outputs": [],
   "source": []
  }
 ],
 "metadata": {
  "kernelspec": {
   "display_name": "Python 3 (ipykernel)",
   "language": "python",
   "name": "python3"
  },
  "language_info": {
   "codemirror_mode": {
    "name": "ipython",
    "version": 3
   },
   "file_extension": ".py",
   "mimetype": "text/x-python",
   "name": "python",
   "nbconvert_exporter": "python",
   "pygments_lexer": "ipython3",
   "version": "3.9.7"
  }
 },
 "nbformat": 4,
 "nbformat_minor": 5
}
