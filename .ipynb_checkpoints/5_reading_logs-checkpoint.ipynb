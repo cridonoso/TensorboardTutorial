{
 "cells": [
  {
   "cell_type": "markdown",
   "id": "1ecd6fd7",
   "metadata": {},
   "source": [
    "## Reading Tensorboard Logs "
   ]
  },
  {
   "cell_type": "markdown",
   "id": "0d5f3507",
   "metadata": {},
   "source": [
    "In general, after the training we want to show the results associated with it.\n",
    "\n",
    "In the **web application** of Tensorboard (running on your browser or nested here) you can download the logs by allowing **download links**.\n",
    "\n",
    "However, many times we have a lot of experiments and downloading each of them is time expensive.\n",
    "\n",
    "In this tutorial, we will use Tensorboard package to recover metrics and losses **using the logs path only!**."
   ]
  },
  {
   "cell_type": "code",
   "execution_count": 42,
   "id": "c4b56623",
   "metadata": {},
   "outputs": [],
   "source": [
    "import tensorflow as tf\n",
    "import pandas as pd\n",
    "import os \n",
    "\n",
    "from tensorboard.backend.event_processing import event_accumulator\n",
    "from tensorflow.core.util import event_pb2\n",
    "from tensorflow.python.lib.io import tf_record\n",
    "\n",
    "def my_summary_iterator(path):\n",
    "    for r in tf_record.tf_record_iterator(path):\n",
    "        yield event_pb2.Event.FromString(r)\n",
    "        \n",
    "def get_metrics(path_logs):\n",
    "\n",
    "    ea = event_accumulator.EventAccumulator(path_logs)\n",
    "    ea.Reload()   \n",
    "    print(ea.Tags()['tensors'])\n",
    "\n",
    "    metrics = pd.DataFrame([(w,s,tf.make_ndarray(t))for w,s,t in ea.Tensors('epoch_loss')],\n",
    "                columns=['wall_time', 'step', 'value'])\n",
    "    return metrics"
   ]
  },
  {
   "cell_type": "code",
   "execution_count": 43,
   "id": "13a6c8d1",
   "metadata": {},
   "outputs": [
    {
     "name": "stdout",
     "output_type": "stream",
     "text": [
      "['keras', 'epoch_loss', 'epoch_accuracy']\n"
     ]
    }
   ],
   "source": [
    "metrics = get_metrics('./logs/train/events.out.tfevents.1653335506.appa.14386.0.v2')"
   ]
  },
  {
   "cell_type": "code",
   "execution_count": 44,
   "id": "8709808c",
   "metadata": {},
   "outputs": [
    {
     "data": {
      "text/html": [
       "<div>\n",
       "<style scoped>\n",
       "    .dataframe tbody tr th:only-of-type {\n",
       "        vertical-align: middle;\n",
       "    }\n",
       "\n",
       "    .dataframe tbody tr th {\n",
       "        vertical-align: top;\n",
       "    }\n",
       "\n",
       "    .dataframe thead th {\n",
       "        text-align: right;\n",
       "    }\n",
       "</style>\n",
       "<table border=\"1\" class=\"dataframe\">\n",
       "  <thead>\n",
       "    <tr style=\"text-align: right;\">\n",
       "      <th></th>\n",
       "      <th>wall_time</th>\n",
       "      <th>step</th>\n",
       "      <th>value</th>\n",
       "    </tr>\n",
       "  </thead>\n",
       "  <tbody>\n",
       "    <tr>\n",
       "      <th>0</th>\n",
       "      <td>1.653336e+09</td>\n",
       "      <td>0</td>\n",
       "      <td>1.9047009</td>\n",
       "    </tr>\n",
       "    <tr>\n",
       "      <th>1</th>\n",
       "      <td>1.653336e+09</td>\n",
       "      <td>1</td>\n",
       "      <td>0.16499735</td>\n",
       "    </tr>\n",
       "    <tr>\n",
       "      <th>2</th>\n",
       "      <td>1.653336e+09</td>\n",
       "      <td>2</td>\n",
       "      <td>0.09503485</td>\n",
       "    </tr>\n",
       "    <tr>\n",
       "      <th>3</th>\n",
       "      <td>1.653336e+09</td>\n",
       "      <td>3</td>\n",
       "      <td>0.064836964</td>\n",
       "    </tr>\n",
       "    <tr>\n",
       "      <th>4</th>\n",
       "      <td>1.653336e+09</td>\n",
       "      <td>4</td>\n",
       "      <td>0.04720929</td>\n",
       "    </tr>\n",
       "    <tr>\n",
       "      <th>5</th>\n",
       "      <td>1.653336e+09</td>\n",
       "      <td>5</td>\n",
       "      <td>0.037252158</td>\n",
       "    </tr>\n",
       "    <tr>\n",
       "      <th>6</th>\n",
       "      <td>1.653336e+09</td>\n",
       "      <td>6</td>\n",
       "      <td>0.027180618</td>\n",
       "    </tr>\n",
       "    <tr>\n",
       "      <th>7</th>\n",
       "      <td>1.653336e+09</td>\n",
       "      <td>7</td>\n",
       "      <td>0.021200115</td>\n",
       "    </tr>\n",
       "    <tr>\n",
       "      <th>8</th>\n",
       "      <td>1.653336e+09</td>\n",
       "      <td>8</td>\n",
       "      <td>0.016269663</td>\n",
       "    </tr>\n",
       "    <tr>\n",
       "      <th>9</th>\n",
       "      <td>1.653336e+09</td>\n",
       "      <td>9</td>\n",
       "      <td>0.013570324</td>\n",
       "    </tr>\n",
       "  </tbody>\n",
       "</table>\n",
       "</div>"
      ],
      "text/plain": [
       "      wall_time  step        value\n",
       "0  1.653336e+09     0    1.9047009\n",
       "1  1.653336e+09     1   0.16499735\n",
       "2  1.653336e+09     2   0.09503485\n",
       "3  1.653336e+09     3  0.064836964\n",
       "4  1.653336e+09     4   0.04720929\n",
       "5  1.653336e+09     5  0.037252158\n",
       "6  1.653336e+09     6  0.027180618\n",
       "7  1.653336e+09     7  0.021200115\n",
       "8  1.653336e+09     8  0.016269663\n",
       "9  1.653336e+09     9  0.013570324"
      ]
     },
     "execution_count": 44,
     "metadata": {},
     "output_type": "execute_result"
    }
   ],
   "source": [
    "metrics"
   ]
  },
  {
   "cell_type": "code",
   "execution_count": null,
   "id": "0524735d",
   "metadata": {},
   "outputs": [],
   "source": []
  }
 ],
 "metadata": {
  "kernelspec": {
   "display_name": "Python 3 (ipykernel)",
   "language": "python",
   "name": "python3"
  },
  "language_info": {
   "codemirror_mode": {
    "name": "ipython",
    "version": 3
   },
   "file_extension": ".py",
   "mimetype": "text/x-python",
   "name": "python",
   "nbconvert_exporter": "python",
   "pygments_lexer": "ipython3",
   "version": "3.9.7"
  }
 },
 "nbformat": 4,
 "nbformat_minor": 5
}
