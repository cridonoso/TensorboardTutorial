{
 "cells": [
  {
   "cell_type": "markdown",
   "id": "6e489fdd",
   "metadata": {},
   "source": [
    "# Tensorbard Tutorial\n",
    "## 0. Introduction"
   ]
  },
  {
   "cell_type": "markdown",
   "id": "53d4480d",
   "metadata": {},
   "source": [
    "Tensorboard is an extension of the TensorFlow containing tools for **visualizing** and **tracking** your model's training.\n",
    "\n",
    "Tensorboard runs parallel to your application, serving a local/remote web application that can be displayed on your browser and embedded (from TensorFlow 2.0) in Jupiter notebooks. \n",
    "\n",
    "Even though Tensorboard was made to be incorporated along **TensorFlow** applications, we can also use it on **Pytorch**.\n",
    "\n",
    "This is an in-deep serial of tutorials covering the following topics:\n",
    "\n",
    "- How to begin using Tensorboard\n",
    "- Tracking metrics \n",
    "- Images\n",
    "- Computing graph visualization\n",
    "- Visualizing weights and biases\n",
    "- Matplotlib compatibility \n",
    "- Reading logs\n",
    "- Profiler"
   ]
  },
  {
   "cell_type": "markdown",
   "id": "0acd6170",
   "metadata": {},
   "source": [
    "## Get started"
   ]
  },
  {
   "cell_type": "markdown",
   "id": "4824d456",
   "metadata": {},
   "source": [
    "Tensorboard (TB) is already included when you install the TensorFlow library. As we said before, TB can also be used on Pytorch. However, in this tutorials we use TensorFlow for building deep learning models."
   ]
  },
  {
   "cell_type": "code",
   "execution_count": 1,
   "id": "542e6444",
   "metadata": {},
   "outputs": [
    {
     "name": "stderr",
     "output_type": "stream",
     "text": [
      "2022-05-23 15:51:33.090505: W tensorflow/stream_executor/platform/default/dso_loader.cc:64] Could not load dynamic library 'libcudart.so.11.0'; dlerror: libcudart.so.11.0: cannot open shared object file: No such file or directory\n",
      "2022-05-23 15:51:33.090524: I tensorflow/stream_executor/cuda/cudart_stub.cc:29] Ignore above cudart dlerror if you do not have a GPU set up on your machine.\n"
     ]
    },
    {
     "data": {
      "text/plain": [
       "'2.8.0'"
      ]
     },
     "execution_count": 1,
     "metadata": {},
     "output_type": "execute_result"
    }
   ],
   "source": [
    "import matplotlib.pyplot as plt\n",
    "import tensorflow as tf\n",
    "\n",
    "tf.__version__"
   ]
  },
  {
   "cell_type": "markdown",
   "id": "c922e95d",
   "metadata": {},
   "source": [
    "First we load `MNIST` data from `tf.keras.datasets`"
   ]
  },
  {
   "cell_type": "code",
   "execution_count": 2,
   "id": "6979e537",
   "metadata": {},
   "outputs": [],
   "source": [
    "(x_train, y_train), (x_test, y_test) = tf.keras.datasets.mnist.load_data()"
   ]
  },
  {
   "cell_type": "code",
   "execution_count": 3,
   "id": "412d876c",
   "metadata": {},
   "outputs": [
    {
     "data": {
      "text/plain": [
       "((60000, 28, 28), (10000, 28, 28))"
      ]
     },
     "execution_count": 3,
     "metadata": {},
     "output_type": "execute_result"
    }
   ],
   "source": [
    "x_train.shape, x_test.shape"
   ]
  },
  {
   "cell_type": "code",
   "execution_count": 4,
   "id": "8b510123",
   "metadata": {},
   "outputs": [
    {
     "data": {
      "image/png": "[encoded data removed]",
      "text/plain": [
       "<Figure size 432x288 with 6 Axes>"
      ]
     },
     "metadata": {
      "needs_background": "light"
     },
     "output_type": "display_data"
    }
   ],
   "source": [
    "fig, axes = plt.subplots(2, 3)\n",
    "\n",
    "for index, ax in enumerate(axes.flatten()):\n",
    "    ax.imshow(x_train[index])\n",
    "    ax.set_title('Label: {}'.format(y_train[index]))\n",
    "    ax.set_yticklabels([])\n",
    "    ax.set_xticklabels([])\n",
    "plt.show()"
   ]
  },
  {
   "cell_type": "markdown",
   "id": "4ac0b2e2",
   "metadata": {},
   "source": [
    "We will use a CNN classifier for testing TB. The model definition can be found in `./toy_model.py`. We will also use this model for future tutorials. "
   ]
  },
  {
   "cell_type": "code",
   "execution_count": 5,
   "id": "161c790d",
   "metadata": {},
   "outputs": [],
   "source": [
    "from toy_model import create_model\n",
    "%load_ext autoreload\n",
    "%autoreload 2"
   ]
  },
  {
   "cell_type": "code",
   "execution_count": 6,
   "id": "4e9b3530",
   "metadata": {},
   "outputs": [
    {
     "name": "stderr",
     "output_type": "stream",
     "text": [
      "2022-05-23 15:51:34.859972: W tensorflow/stream_executor/platform/default/dso_loader.cc:64] Could not load dynamic library 'libcuda.so.1'; dlerror: libcuda.so.1: cannot open shared object file: No such file or directory\n",
      "2022-05-23 15:51:34.859993: W tensorflow/stream_executor/cuda/cuda_driver.cc:269] failed call to cuInit: UNKNOWN ERROR (303)\n",
      "2022-05-23 15:51:34.860005: I tensorflow/stream_executor/cuda/cuda_diagnostics.cc:156] kernel driver does not appear to be running on this host (appa): /proc/driver/nvidia/version does not exist\n",
      "2022-05-23 15:51:34.860235: I tensorflow/core/platform/cpu_feature_guard.cc:151] This TensorFlow binary is optimized with oneAPI Deep Neural Network Library (oneDNN) to use the following CPU instructions in performance-critical operations:  AVX2 AVX512F FMA\n",
      "To enable them in other operations, rebuild TensorFlow with the appropriate compiler flags.\n"
     ]
    }
   ],
   "source": [
    "n_classes = tf.unique(y_test).y.shape[0]\n",
    "model = create_model(n_classes)"
   ]
  },
  {
   "cell_type": "markdown",
   "id": "b559d627",
   "metadata": {},
   "source": [
    "We compile our model using `Adam()` optimizer and `CategoricalCrossEntropy()`"
   ]
  },
  {
   "cell_type": "code",
   "execution_count": 7,
   "id": "d8dbe7ed",
   "metadata": {},
   "outputs": [],
   "source": [
    "optimizer = tf.keras.optimizers.Adam()\n",
    "loss = tf.keras.losses.CategoricalCrossentropy(from_logits=True)\n",
    "model.compile(loss=loss, optimizer=optimizer, metrics=[\"accuracy\"])"
   ]
  },
  {
   "cell_type": "markdown",
   "id": "164ce403",
   "metadata": {},
   "source": [
    "The easiest way to use TB is via [**callbacks**](https://www.tensorflow.org/api_docs/python/tf/keras/callbacks). Callbacks are objects/functions running together with our model. Generally, they are triggered after an epoch or forward step.   \n",
    "\n",
    "Let's take a look into the [TB callback](https://www.tensorflow.org/api_docs/python/tf/keras/callbacks/TensorBoard)"
   ]
  },
  {
   "cell_type": "code",
   "execution_count": 9,
   "id": "ad5f5ef5",
   "metadata": {},
   "outputs": [],
   "source": [
    "from tensorflow.keras.callbacks import TensorBoard\n",
    "\n",
    "tb_cback = TensorBoard(log_dir='logs', update_freq='epoch')"
   ]
  },
  {
   "cell_type": "markdown",
   "id": "6206b4b8",
   "metadata": {},
   "source": [
    "Before training we need to reshape `x_train` and `y_train` in order to satisfies our network's architecture."
   ]
  },
  {
   "cell_type": "code",
   "execution_count": 10,
   "id": "42491db6",
   "metadata": {},
   "outputs": [
    {
     "name": "stdout",
     "output_type": "stream",
     "text": [
      "Model: \"sequential\"\n",
      "_________________________________________________________________\n",
      " Layer (type)                Output Shape              Param #   \n",
      "=================================================================\n",
      " conv2d (Conv2D)             (None, 26, 26, 32)        320       \n",
      "                                                                 \n",
      " max_pooling2d (MaxPooling2D  (None, 13, 13, 32)       0         \n",
      " )                                                               \n",
      "                                                                 \n",
      " conv2d_1 (Conv2D)           (None, 11, 11, 64)        18496     \n",
      "                                                                 \n",
      " max_pooling2d_1 (MaxPooling  (None, 5, 5, 64)         0         \n",
      " 2D)                                                             \n",
      "                                                                 \n",
      " flatten (Flatten)           (None, 1600)              0         \n",
      "                                                                 \n",
      " dense (Dense)               (None, 10)                16010     \n",
      "                                                                 \n",
      "=================================================================\n",
      "Total params: 34,826\n",
      "Trainable params: 34,826\n",
      "Non-trainable params: 0\n",
      "_________________________________________________________________\n"
     ]
    }
   ],
   "source": [
    "model.summary()"
   ]
  },
  {
   "cell_type": "code",
   "execution_count": 11,
   "id": "3f43750a",
   "metadata": {},
   "outputs": [
    {
     "data": {
      "text/plain": [
       "(TensorShape([60000, 28, 28, 1]), TensorShape([60000, 10]))"
      ]
     },
     "execution_count": 11,
     "metadata": {},
     "output_type": "execute_result"
    }
   ],
   "source": [
    "x_train_net = tf.expand_dims(x_train, axis=3)\n",
    "y_train_net = tf.one_hot(y_train, n_classes)\n",
    "\n",
    "x_train_net.shape, y_train_net.shape"
   ]
  },
  {
   "cell_type": "markdown",
   "id": "695ad087",
   "metadata": {},
   "source": [
    "A log folder (called `log_dir='logs'`) will be automatically create when we start training"
   ]
  },
  {
   "cell_type": "code",
   "execution_count": 12,
   "id": "d4ca2167",
   "metadata": {
    "scrolled": true
   },
   "outputs": [
    {
     "name": "stdout",
     "output_type": "stream",
     "text": [
      "Epoch 1/10\n",
      "188/188 [==============================] - 8s 42ms/step - loss: 1.9047 - accuracy: 0.8513 - val_loss: 0.2323 - val_accuracy: 0.9458\n",
      "Epoch 2/10\n",
      "188/188 [==============================] - 8s 41ms/step - loss: 0.1650 - accuracy: 0.9595 - val_loss: 0.1546 - val_accuracy: 0.9632\n",
      "Epoch 3/10\n",
      "188/188 [==============================] - 8s 40ms/step - loss: 0.0950 - accuracy: 0.9731 - val_loss: 0.1245 - val_accuracy: 0.9674\n",
      "Epoch 4/10\n",
      "188/188 [==============================] - 9s 45ms/step - loss: 0.0648 - accuracy: 0.9811 - val_loss: 0.0976 - val_accuracy: 0.9751\n",
      "Epoch 5/10\n",
      "188/188 [==============================] - 9s 47ms/step - loss: 0.0472 - accuracy: 0.9863 - val_loss: 0.1024 - val_accuracy: 0.9733\n",
      "Epoch 6/10\n",
      "188/188 [==============================] - 9s 47ms/step - loss: 0.0373 - accuracy: 0.9890 - val_loss: 0.0832 - val_accuracy: 0.9801\n",
      "Epoch 7/10\n",
      "188/188 [==============================] - 9s 47ms/step - loss: 0.0272 - accuracy: 0.9920 - val_loss: 0.0814 - val_accuracy: 0.9812\n",
      "Epoch 8/10\n",
      "188/188 [==============================] - 9s 48ms/step - loss: 0.0212 - accuracy: 0.9930 - val_loss: 0.0923 - val_accuracy: 0.9797\n",
      "Epoch 9/10\n",
      "188/188 [==============================] - 9s 47ms/step - loss: 0.0163 - accuracy: 0.9945 - val_loss: 0.0787 - val_accuracy: 0.9838\n",
      "Epoch 10/10\n",
      "188/188 [==============================] - 9s 47ms/step - loss: 0.0136 - accuracy: 0.9956 - val_loss: 0.0784 - val_accuracy: 0.9839\n",
      "CPU times: user 8min 53s, sys: 17.9 s, total: 9min 11s\n",
      "Wall time: 1min 25s\n"
     ]
    }
   ],
   "source": [
    "%%time\n",
    "history = model.fit(x_train_net, \n",
    "                    y_train_net, \n",
    "                    batch_size=256, \n",
    "                    epochs=10, \n",
    "                    validation_split=0.2,\n",
    "                    callbacks=[tb_cback])"
   ]
  },
  {
   "cell_type": "markdown",
   "id": "6494b6ed",
   "metadata": {},
   "source": [
    "open your terminal and type:\n",
    "```\n",
    "tensorboard --logdir <logs directory>\n",
    "```\n",
    "In this case we define `<logs directory>` is `logs`."
   ]
  },
  {
   "cell_type": "markdown",
   "id": "a141b851",
   "metadata": {},
   "source": [
    "Alternatevely, we can load our tensorboard results on jupyter notebook by loading TB extension,"
   ]
  },
  {
   "cell_type": "code",
   "execution_count": 17,
   "id": "ac505a31",
   "metadata": {},
   "outputs": [
    {
     "name": "stdout",
     "output_type": "stream",
     "text": [
      "The tensorboard extension is already loaded. To reload it, use:\n",
      "  %reload_ext tensorboard\n"
     ]
    }
   ],
   "source": [
    "%load_ext tensorboard"
   ]
  },
  {
   "cell_type": "markdown",
   "id": "258ef7fe",
   "metadata": {},
   "source": [
    "and serving the web app:"
   ]
  },
  {
   "cell_type": "code",
   "execution_count": 18,
   "id": "b9c562d2",
   "metadata": {},
   "outputs": [
    {
     "data": {
      "text/plain": [
       "Reusing TensorBoard on port 6008 (pid 8370), started 0:01:21 ago. (Use '!kill 8370' to kill it.)"
      ]
     },
     "metadata": {},
     "output_type": "display_data"
    },
    {
     "data": {
      "text/html": [
       "\n",
       "      <iframe id=\"tensorboard-frame-a6d79eeef7fb3123\" width=\"100%\" height=\"800\" frameborder=\"0\">\n",
       "      </iframe>\n",
       "      <script>\n",
       "        (function() {\n",
       "          const frame = document.getElementById(\"tensorboard-frame-a6d79eeef7fb3123\");\n",
       "          const url = new URL(\"/\", window.location);\n",
       "          const port = 6008;\n",
       "          if (port) {\n",
       "            url.port = port;\n",
       "          }\n",
       "          frame.src = url;\n",
       "        })();\n",
       "      </script>\n",
       "    "
      ],
      "text/plain": [
       "<IPython.core.display.HTML object>"
      ]
     },
     "metadata": {},
     "output_type": "display_data"
    }
   ],
   "source": [
    "%tensorboard --logdir logs"
   ]
  },
  {
   "cell_type": "markdown",
   "id": "15677bcd",
   "metadata": {},
   "source": [
    "If you are running TB remotely you also have tu specify the `host` and the opened `port`\n",
    "```\n",
    "tensorboard --logdir logs --host 0.0.0.0 --port 6006\n",
    "```\n",
    "Then, in your browser you can open the link by typing: \n",
    "\n",
    "```\n",
    "http://my_public_ip:6006/\n",
    "```\n"
   ]
  },
  {
   "cell_type": "markdown",
   "id": "185e6c95",
   "metadata": {},
   "source": [
    "## [Bonus] Custom training loops (lower level)"
   ]
  },
  {
   "cell_type": "markdown",
   "id": "0888a035",
   "metadata": {},
   "source": [
    "Using TB on Keras-based models is fast and easy to implement. However, sometimes we must use [custom training loops](https://www.tensorflow.org/guide/keras/writing_a_training_loop_from_scratch) to incorporate more sophisticated features into our training."
   ]
  },
  {
   "cell_type": "code",
   "execution_count": 137,
   "id": "241df20c",
   "metadata": {},
   "outputs": [
    {
     "name": "stdout",
     "output_type": "stream",
     "text": [
      "The autoreload extension is already loaded. To reload it, use:\n",
      "  %reload_ext autoreload\n"
     ]
    }
   ],
   "source": [
    "from toy_model import train_step, test_step\n",
    "%load_ext autoreload\n",
    "%autoreload 2"
   ]
  },
  {
   "cell_type": "markdown",
   "id": "6bb6a8b5",
   "metadata": {},
   "source": [
    "In this case we **can not use the TB callback**. Instead we will use the `tf.summary` package that contains TB tools for tracking runs."
   ]
  },
  {
   "cell_type": "code",
   "execution_count": 138,
   "id": "eceedbb7",
   "metadata": {},
   "outputs": [],
   "source": [
    "from tensorflow.summary import create_file_writer\n",
    "from sklearn.model_selection import train_test_split"
   ]
  },
  {
   "cell_type": "code",
   "execution_count": 139,
   "id": "8b94cdcf",
   "metadata": {},
   "outputs": [],
   "source": [
    "log_dir = './logs_2'\n",
    "train_writer = create_file_writer('{}/train'.format(log_dir))\n",
    "val_writer   = create_file_writer('{}/val'.format(log_dir))"
   ]
  },
  {
   "cell_type": "markdown",
   "id": "16c26ae4",
   "metadata": {},
   "source": [
    "we also have to create our validation split"
   ]
  },
  {
   "cell_type": "code",
   "execution_count": 140,
   "id": "86c78d8a",
   "metadata": {},
   "outputs": [],
   "source": [
    "x_train_ds, x_val_ds, \\\n",
    "y_train_ds, y_val_ds = train_test_split(x_train_net.numpy(), \n",
    "                                        y_train_net.numpy(), \n",
    "                                        test_size=0.2)\n",
    "\n",
    "train_ds  = tf.data.Dataset.from_tensor_slices((x_train_ds, \n",
    "                                                y_train_ds))\n",
    "train_ds  = train_ds.batch(256)\n",
    "\n",
    "val_ds  = tf.data.Dataset.from_tensor_slices((x_val_ds, \n",
    "                                              y_val_ds))\n",
    "val_ds  = val_ds.batch(256)"
   ]
  },
  {
   "cell_type": "markdown",
   "id": "f78250ba",
   "metadata": {},
   "source": [
    "We reset the optimizer and models weights to avoid overfitting from the last experiment"
   ]
  },
  {
   "cell_type": "code",
   "execution_count": 141,
   "id": "368c8ebf",
   "metadata": {},
   "outputs": [],
   "source": [
    "optimizer = tf.keras.optimizers.Adam()"
   ]
  },
  {
   "cell_type": "code",
   "execution_count": 142,
   "id": "7d6184ca",
   "metadata": {},
   "outputs": [],
   "source": [
    "model = create_model(n_classes)"
   ]
  },
  {
   "cell_type": "markdown",
   "id": "e6aa5b41",
   "metadata": {},
   "source": [
    "Finally we start training and saving our logs using `tf.summary.scalar`"
   ]
  },
  {
   "cell_type": "code",
   "execution_count": 143,
   "id": "5b6412f7",
   "metadata": {},
   "outputs": [
    {
     "name": "stdout",
     "output_type": "stream",
     "text": [
      "CPU times: user 10min 40s, sys: 32.5 s, total: 11min 12s\n",
      "Wall time: 1min 58s\n"
     ]
    }
   ],
   "source": [
    "%%time\n",
    "for epoch in range(10):\n",
    "    train_losses, train_accs = [], []\n",
    "    for x, y in train_ds:\n",
    "        t_loss, t_acc = train_step(model, x, y, optimizer)\n",
    "        train_losses.append(t_loss)\n",
    "        train_accs.append(t_acc)\n",
    "        \n",
    "    val_losses, val_accs = [], []\n",
    "    for x, y in val_ds:\n",
    "        v_loss, v_acc = test_step(model, x, y)\n",
    "        val_losses.append(v_loss)\n",
    "        val_accs.append(v_acc)\n",
    "        \n",
    "    # Load to Tensorboard\n",
    "    with train_writer.as_default():\n",
    "        tf.summary.scalar('loss',\n",
    "                          tf.reduce_mean(train_losses), \n",
    "                          step=epoch)\n",
    "        tf.summary.scalar('accuracy',\n",
    "                          tf.reduce_mean(train_accs), \n",
    "                          step=epoch)\n",
    "\n",
    "    # Load to Tensorboard\n",
    "    with val_writer.as_default():\n",
    "        tf.summary.scalar('loss',\n",
    "                          tf.reduce_mean(val_losses), \n",
    "                          step=epoch)\n",
    "        tf.summary.scalar('accuracy',\n",
    "                          tf.reduce_mean(val_accs), \n",
    "                          step=epoch)"
   ]
  },
  {
   "cell_type": "markdown",
   "id": "afe58cc2",
   "metadata": {},
   "source": [
    "`tf.summary` also includes [another kinds of formats](https://www.tensorflow.org/api_docs/python/tf/summary#functions_2) such as audio, images, graphs...\n",
    "\n",
    "We will see more examples on future tutorials"
   ]
  },
  {
   "cell_type": "code",
   "execution_count": null,
   "id": "5edeeda0",
   "metadata": {},
   "outputs": [],
   "source": []
  }
 ],
 "metadata": {
  "kernelspec": {
   "display_name": "Python 3 (ipykernel)",
   "language": "python",
   "name": "python3"
  },
  "language_info": {
   "codemirror_mode": {
    "name": "ipython",
    "version": 3
   },
   "file_extension": ".py",
   "mimetype": "text/x-python",
   "name": "python",
   "nbconvert_exporter": "python",
   "pygments_lexer": "ipython3",
   "version": "3.9.7"
  }
 },
 "nbformat": 4,
 "nbformat_minor": 5
}
