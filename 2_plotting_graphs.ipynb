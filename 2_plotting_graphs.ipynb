{
 "cells": [
  {
   "cell_type": "markdown",
   "id": "64057651",
   "metadata": {},
   "source": [
    "# Visualizing opertions graph"
   ]
  },
  {
   "cell_type": "markdown",
   "id": "b8b439af",
   "metadata": {},
   "source": [
    "[From original documentation:](https://www.tensorflow.org/guide/intro_to_graphs#:~:text=TensorFlow%20uses%20graphs%20as%20the,(%22constant%20folding%22).)\n",
    "\n",
    ">Graphs are data structures that contain a set of tf.Operation objects, which represent units of computation; and tf.Tensor objects, which represent the units of data that flow between operations.\n",
    "\n",
    "Tensorboard provides us with tools to visualize the computation graph."
   ]
  },
  {
   "cell_type": "markdown",
   "id": "2b3ecb4f",
   "metadata": {},
   "source": [
    "Keras-based models (which use `model.fit(...)` method) use [TensorBoard callback](https://www.tensorflow.org/api_docs/python/tf/keras/callbacks/TensorBoard). In this case, we only have to pass\n",
    "```\n",
    "    tf.keras.callbacks.TensorBoard(..., write_graph=True, ...)\n",
    "```"
   ]
  },
  {
   "cell_type": "code",
   "execution_count": 1,
   "id": "7affe947",
   "metadata": {},
   "outputs": [
    {
     "name": "stderr",
     "output_type": "stream",
     "text": [
      "2022-05-23 13:00:29.304987: W tensorflow/stream_executor/platform/default/dso_loader.cc:64] Could not load dynamic library 'libcudart.so.11.0'; dlerror: libcudart.so.11.0: cannot open shared object file: No such file or directory\n",
      "2022-05-23 13:00:29.305006: I tensorflow/stream_executor/cuda/cudart_stub.cc:29] Ignore above cudart dlerror if you do not have a GPU set up on your machine.\n"
     ]
    }
   ],
   "source": [
    "import tensorflow as tf \n",
    "\n",
    "from toy_model import create_model\n",
    "from tensorflow.keras.callbacks import TensorBoard"
   ]
  },
  {
   "cell_type": "markdown",
   "id": "df072f11",
   "metadata": {},
   "source": [
    "we will use the same data"
   ]
  },
  {
   "cell_type": "code",
   "execution_count": 2,
   "id": "7f4684c8",
   "metadata": {},
   "outputs": [
    {
     "name": "stderr",
     "output_type": "stream",
     "text": [
      "2022-05-23 13:00:30.725728: W tensorflow/stream_executor/platform/default/dso_loader.cc:64] Could not load dynamic library 'libcuda.so.1'; dlerror: libcuda.so.1: cannot open shared object file: No such file or directory\n",
      "2022-05-23 13:00:30.725752: W tensorflow/stream_executor/cuda/cuda_driver.cc:269] failed call to cuInit: UNKNOWN ERROR (303)\n",
      "2022-05-23 13:00:30.725765: I tensorflow/stream_executor/cuda/cuda_diagnostics.cc:156] kernel driver does not appear to be running on this host (appa): /proc/driver/nvidia/version does not exist\n",
      "2022-05-23 13:00:30.726081: I tensorflow/core/platform/cpu_feature_guard.cc:151] This TensorFlow binary is optimized with oneAPI Deep Neural Network Library (oneDNN) to use the following CPU instructions in performance-critical operations:  AVX2 AVX512F FMA\n",
      "To enable them in other operations, rebuild TensorFlow with the appropriate compiler flags.\n"
     ]
    }
   ],
   "source": [
    "(x_train, y_train), (x_test, y_test) = tf.keras.datasets.mnist.load_data()\n",
    "n_classes = tf.unique(y_test).y.shape[0]"
   ]
  },
  {
   "cell_type": "markdown",
   "id": "8139bc53",
   "metadata": {},
   "source": [
    "and the previous classifier,"
   ]
  },
  {
   "cell_type": "code",
   "execution_count": 4,
   "id": "c888c98a",
   "metadata": {},
   "outputs": [],
   "source": [
    "clf = create_model(n_classes=n_classes)"
   ]
  },
  {
   "cell_type": "markdown",
   "id": "8ed3c486",
   "metadata": {},
   "source": [
    "when you compile keras-based models the graph is generated."
   ]
  },
  {
   "cell_type": "code",
   "execution_count": 21,
   "id": "488c4e5a",
   "metadata": {},
   "outputs": [],
   "source": [
    "optimizer = tf.keras.optimizers.Adam()\n",
    "loss = tf.keras.losses.CategoricalCrossentropy(from_logits=True)\n",
    "clf.compile(loss=loss, optimizer=optimizer, metrics=[\"accuracy\"])\n",
    "\n",
    "tb_cback = TensorBoard(log_dir='logs', write_graph=True, update_freq='epoch')"
   ]
  },
  {
   "cell_type": "markdown",
   "id": "2123f3a1",
   "metadata": {},
   "source": [
    "However, the graph is not sent to Tensorboard until `fit(callbacks=[tb_cback])` is executed. "
   ]
  },
  {
   "cell_type": "code",
   "execution_count": 22,
   "id": "9b6ba66c",
   "metadata": {},
   "outputs": [
    {
     "data": {
      "text/plain": [
       "(TensorShape([60000, 28, 28, 1]), TensorShape([60000, 10]))"
      ]
     },
     "execution_count": 22,
     "metadata": {},
     "output_type": "execute_result"
    }
   ],
   "source": [
    "x_train_net = tf.expand_dims(x_train, axis=3)\n",
    "y_train_net = tf.one_hot(y_train, n_classes)\n",
    "\n",
    "x_train_net.shape, y_train_net.shape"
   ]
  },
  {
   "cell_type": "code",
   "execution_count": 23,
   "id": "e4a2aad5",
   "metadata": {},
   "outputs": [
    {
     "name": "stdout",
     "output_type": "stream",
     "text": [
      "188/188 [==============================] - 8s 43ms/step - loss: 1.7399 - accuracy: 0.8645 - val_loss: 0.1924 - val_accuracy: 0.9575\n",
      "CPU times: user 49.7 s, sys: 1.52 s, total: 51.2 s\n",
      "Wall time: 8.49 s\n"
     ]
    }
   ],
   "source": [
    "%%time\n",
    "history = clf.fit(x_train_net, \n",
    "                  y_train_net, \n",
    "                  batch_size=256, \n",
    "                  epochs=1, \n",
    "                  validation_split=0.2,\n",
    "                  callbacks=[tb_cback])"
   ]
  },
  {
   "cell_type": "code",
   "execution_count": 11,
   "id": "b390ab74",
   "metadata": {},
   "outputs": [],
   "source": [
    "%load_ext tensorboard"
   ]
  },
  {
   "cell_type": "code",
   "execution_count": 25,
   "id": "334ef125",
   "metadata": {},
   "outputs": [
    {
     "data": {
      "text/html": [
       "\n",
       "      <iframe id=\"tensorboard-frame-e0770d8d5ea5e54a\" width=\"100%\" height=\"800\" frameborder=\"0\">\n",
       "      </iframe>\n",
       "      <script>\n",
       "        (function() {\n",
       "          const frame = document.getElementById(\"tensorboard-frame-e0770d8d5ea5e54a\");\n",
       "          const url = new URL(\"/\", window.location);\n",
       "          const port = 6006;\n",
       "          if (port) {\n",
       "            url.port = port;\n",
       "          }\n",
       "          frame.src = url;\n",
       "        })();\n",
       "      </script>\n",
       "    "
      ],
      "text/plain": [
       "<IPython.core.display.HTML object>"
      ]
     },
     "metadata": {},
     "output_type": "display_data"
    }
   ],
   "source": [
    "%tensorboard --logdir logs"
   ]
  },
  {
   "cell_type": "markdown",
   "id": "0fb00f61",
   "metadata": {},
   "source": [
    "## Custom training loops"
   ]
  },
  {
   "cell_type": "markdown",
   "id": "e8ef42be",
   "metadata": {},
   "source": [
    "If you are not using the `model.fit(...)` function then you have to register the graph to Tensorboard. This scenario provides us more flexibity to control the graph structure.\n",
    "\n",
    "To show this feature we will create a custom layer and we will visualize it"
   ]
  },
  {
   "cell_type": "code",
   "execution_count": 25,
   "id": "be23fa69",
   "metadata": {},
   "outputs": [],
   "source": [
    "class MyDenseLayer(tf.keras.layers.Layer):\n",
    "    def __init__(self, num_outputs, dropout=0.5, name=''):\n",
    "        super(MyDenseLayer, self).__init__(name=name)\n",
    "        self.num_outputs = num_outputs\n",
    "        self.bn_0 = tf.keras.layers.LayerNormalization(name='BN')\n",
    "        self.bn_1 = tf.keras.layers.LayerNormalization(name='BN')\n",
    "        self.drop = tf.keras.layers.Dropout(dropout, name='Dropout')\n",
    "        self.layer_0 = tf.keras.layers.Dense(self.num_outputs, name='layer_0')\n",
    "        self.layer_1 = tf.keras.layers.Dense(self.num_outputs, name='layer_1')\n",
    "        \n",
    "    def call(self, inputs):\n",
    "        with tf.name_scope(\"First_Part\") as scope0:\n",
    "            x = self.layer_0(inputs)\n",
    "            x = self.bn_0(x)\n",
    "            x = self.drop(x)\n",
    "        \n",
    "        with tf.name_scope(\"Second_Part\") as scope1:\n",
    "            y = self.layer_1(inputs)\n",
    "            y = self.bn_1(y)\n",
    "        \n",
    "        return x, y"
   ]
  },
  {
   "cell_type": "code",
   "execution_count": 26,
   "id": "1767771c",
   "metadata": {},
   "outputs": [],
   "source": [
    "inputs = tf.keras.Input(shape=(4, ), name=\"serie\")\n",
    "x, y = MyDenseLayer(num_outputs=100, name='MyLayer')(inputs)\n",
    "outputs = (x, y)\n",
    "model = tf.keras.Model(inputs, outputs, name=\"toy_model\")"
   ]
  },
  {
   "cell_type": "markdown",
   "id": "3fd6da00",
   "metadata": {},
   "source": [
    "Now we create our graph writer"
   ]
  },
  {
   "cell_type": "code",
   "execution_count": 27,
   "id": "818aabae",
   "metadata": {},
   "outputs": [],
   "source": [
    "from tensorflow.summary import create_file_writer\n",
    "\n",
    "log_dir = './custom_graph'\n",
    "train_writer = create_file_writer('{}/train'.format(log_dir))"
   ]
  },
  {
   "cell_type": "markdown",
   "id": "3c4d096e",
   "metadata": {},
   "source": [
    "Graphs can only be created using `tf.function` decorator which optimizes our code and creates the computational graph automatically."
   ]
  },
  {
   "cell_type": "code",
   "execution_count": 28,
   "id": "43341f9c",
   "metadata": {},
   "outputs": [],
   "source": [
    "def draw_graph(model, dataset, writer, logdir=''):\n",
    "    '''Decorator that reports store fn graph.'''\n",
    "\n",
    "    @tf.function\n",
    "    def fn(x):            \n",
    "        x = model(x)\n",
    "\n",
    "    tf.summary.trace_on(graph=True, profiler=False)\n",
    "    fn(dataset)\n",
    "    with writer.as_default():\n",
    "        tf.summary.trace_export(\n",
    "            name='model',\n",
    "            step=0,\n",
    "            profiler_outdir=logdir)"
   ]
  },
  {
   "cell_type": "code",
   "execution_count": 29,
   "id": "89dc2ad5",
   "metadata": {},
   "outputs": [],
   "source": [
    "dataset = tf.random.normal([2, 4])"
   ]
  },
  {
   "cell_type": "code",
   "execution_count": 30,
   "id": "10e4f6d0",
   "metadata": {},
   "outputs": [],
   "source": [
    "draw_graph(model, dataset, train_writer)"
   ]
  },
  {
   "cell_type": "code",
   "execution_count": 31,
   "id": "5f65ea36",
   "metadata": {},
   "outputs": [
    {
     "data": {
      "text/html": [
       "\n",
       "      <iframe id=\"tensorboard-frame-b6e93c2487d30300\" width=\"100%\" height=\"800\" frameborder=\"0\">\n",
       "      </iframe>\n",
       "      <script>\n",
       "        (function() {\n",
       "          const frame = document.getElementById(\"tensorboard-frame-b6e93c2487d30300\");\n",
       "          const url = new URL(\"/\", window.location);\n",
       "          const port = 6006;\n",
       "          if (port) {\n",
       "            url.port = port;\n",
       "          }\n",
       "          frame.src = url;\n",
       "        })();\n",
       "      </script>\n",
       "    "
      ],
      "text/plain": [
       "<IPython.core.display.HTML object>"
      ]
     },
     "metadata": {},
     "output_type": "display_data"
    }
   ],
   "source": [
    "%tensorboard --logdir custom_graph/"
   ]
  },
  {
   "cell_type": "code",
   "execution_count": null,
   "id": "06edba02",
   "metadata": {},
   "outputs": [],
   "source": []
  }
 ],
 "metadata": {
  "kernelspec": {
   "display_name": "Python 3 (ipykernel)",
   "language": "python",
   "name": "python3"
  },
  "language_info": {
   "codemirror_mode": {
    "name": "ipython",
    "version": 3
   },
   "file_extension": ".py",
   "mimetype": "text/x-python",
   "name": "python",
   "nbconvert_exporter": "python",
   "pygments_lexer": "ipython3",
   "version": "3.9.7"
  }
 },
 "nbformat": 4,
 "nbformat_minor": 5
}
